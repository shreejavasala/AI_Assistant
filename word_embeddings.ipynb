{
 "cells": [
  {
   "cell_type": "code",
   "execution_count": 8,
   "metadata": {},
   "outputs": [],
   "source": [
    "import pandas as pd"
   ]
  },
  {
   "cell_type": "code",
   "execution_count": 9,
   "metadata": {},
   "outputs": [
    {
     "name": "stdout",
     "output_type": "stream",
     "text": [
      "(231, 2)\n"
     ]
    },
    {
     "data": {
      "text/html": [
       "<div>\n",
       "<style scoped>\n",
       "    .dataframe tbody tr th:only-of-type {\n",
       "        vertical-align: middle;\n",
       "    }\n",
       "\n",
       "    .dataframe tbody tr th {\n",
       "        vertical-align: top;\n",
       "    }\n",
       "\n",
       "    .dataframe thead th {\n",
       "        text-align: right;\n",
       "    }\n",
       "</style>\n",
       "<table border=\"1\" class=\"dataframe\">\n",
       "  <thead>\n",
       "    <tr style=\"text-align: right;\">\n",
       "      <th></th>\n",
       "      <th>Text</th>\n",
       "      <th>Category</th>\n",
       "    </tr>\n",
       "  </thead>\n",
       "  <tbody>\n",
       "    <tr>\n",
       "      <th>0</th>\n",
       "      <td>Hi, How are you?</td>\n",
       "      <td>Conversation</td>\n",
       "    </tr>\n",
       "    <tr>\n",
       "      <th>1</th>\n",
       "      <td>Open the Calculator</td>\n",
       "      <td>Automation</td>\n",
       "    </tr>\n",
       "    <tr>\n",
       "      <th>2</th>\n",
       "      <td>What is Computer Science?</td>\n",
       "      <td>Query</td>\n",
       "    </tr>\n",
       "    <tr>\n",
       "      <th>3</th>\n",
       "      <td>Hello, How is it going</td>\n",
       "      <td>Conversation</td>\n",
       "    </tr>\n",
       "    <tr>\n",
       "      <th>4</th>\n",
       "      <td>Is it going to rain today in Mumabai?</td>\n",
       "      <td>Query</td>\n",
       "    </tr>\n",
       "    <tr>\n",
       "      <th>5</th>\n",
       "      <td>Thank you for helping me out today</td>\n",
       "      <td>Conversation</td>\n",
       "    </tr>\n",
       "    <tr>\n",
       "      <th>6</th>\n",
       "      <td>Hi there!</td>\n",
       "      <td>Conversation</td>\n",
       "    </tr>\n",
       "    <tr>\n",
       "      <th>7</th>\n",
       "      <td>please make a call to my friend</td>\n",
       "      <td>Automation</td>\n",
       "    </tr>\n",
       "    <tr>\n",
       "      <th>8</th>\n",
       "      <td>Send an e-mail to my colleague</td>\n",
       "      <td>Automation</td>\n",
       "    </tr>\n",
       "    <tr>\n",
       "      <th>9</th>\n",
       "      <td>Back up recently deleted files</td>\n",
       "      <td>Automation</td>\n",
       "    </tr>\n",
       "  </tbody>\n",
       "</table>\n",
       "</div>"
      ],
      "text/plain": [
       "                                    Text      Category\n",
       "0                       Hi, How are you?  Conversation\n",
       "1                    Open the Calculator    Automation\n",
       "2              What is Computer Science?         Query\n",
       "3                 Hello, How is it going  Conversation\n",
       "4  Is it going to rain today in Mumabai?         Query\n",
       "5     Thank you for helping me out today  Conversation\n",
       "6                              Hi there!  Conversation\n",
       "7        please make a call to my friend    Automation\n",
       "8         Send an e-mail to my colleague    Automation\n",
       "9         Back up recently deleted files    Automation"
      ]
     },
     "execution_count": 9,
     "metadata": {},
     "output_type": "execute_result"
    }
   ],
   "source": [
    "#reading data from the Training_data.csv as a dataframe\n",
    "\n",
    "df = pd.read_csv(\"/Users/shreejavasala/Documents/Mini_Project/Training_data.csv\")\n",
    "print(df.shape)\n",
    "df.head(10)"
   ]
  },
  {
   "cell_type": "code",
   "execution_count": 10,
   "metadata": {},
   "outputs": [
    {
     "data": {
      "text/plain": [
       "Category\n",
       "Query           84\n",
       "Automation      78\n",
       "Conversation    69\n",
       "Name: count, dtype: int64"
      ]
     },
     "execution_count": 10,
     "metadata": {},
     "output_type": "execute_result"
    }
   ],
   "source": [
    "df['Category'].unique()\n",
    "df['Category'].value_counts()"
   ]
  },
  {
   "cell_type": "code",
   "execution_count": 11,
   "metadata": {},
   "outputs": [
    {
     "name": "stdout",
     "output_type": "stream",
     "text": [
      "[0 1 2 0 2 0 0 1 1 1 2 2 2 2 0 2 2 2 0 1 1 2 2 0 2 2 1 1 1 0 0 0 0 2 2 0 1\n",
      " 2 1 2 1 0 2 2 2 0 0 2 1 1 2 1 1 1 1 1 0 0 0 2 1 1 0 2 1 1 1 1 1 0 0 0 0 0\n",
      " 0 0 0 1 1 1 2 2 2 2 2 2 1 1 1 1 1 0 0 0 0 0 0 1 2 1 1 1 2 1 1 2 1 1 1 1 1\n",
      " 1 1 1 1 1 1 1 1 1 0 0 0 0 0 0 0 0 0 0 0 0 0 0 0 0 0 0 2 2 2 2 2 2 2 2 2 2\n",
      " 2 2 2 2 2 2 2 2 2 2 2 2 2 2 2 2 0 0 0 0 0 0 0 0 0 2 2 2 2 2 2 2 2 1 1 1 1\n",
      " 1 1 1 1 2 2 2 1 0 0 1 0 2 0 0 2 2 2 1 1 2 1 2 1 2 1 2 1 1 0 2 0 0 1 0 1 2\n",
      " 2 2 1 1 1 2 2 1 1]\n"
     ]
    }
   ],
   "source": [
    "df['Category_Vector'] = df['Category'].map({\n",
    "    'Conversation' : 0,\n",
    "    'Automation' : 1,\n",
    "    'Query' : 2\n",
    "})\n",
    "df.head()\n",
    "print(df['Category_Vector'].values)"
   ]
  },
  {
   "cell_type": "code",
   "execution_count": 12,
   "metadata": {},
   "outputs": [],
   "source": [
    "import spacy\n",
    "nlp = spacy.load(\"en_core_web_md\")"
   ]
  },
  {
   "cell_type": "code",
   "execution_count": 13,
   "metadata": {},
   "outputs": [],
   "source": [
    "df['Text_Vector'] = df['Text'].apply(lambda text: nlp(' '.join([token.text for token in nlp(text) if not token.is_punct])).vector)\n"
   ]
  },
  {
   "cell_type": "code",
   "execution_count": 14,
   "metadata": {},
   "outputs": [
    {
     "data": {
      "text/html": [
       "<div>\n",
       "<style scoped>\n",
       "    .dataframe tbody tr th:only-of-type {\n",
       "        vertical-align: middle;\n",
       "    }\n",
       "\n",
       "    .dataframe tbody tr th {\n",
       "        vertical-align: top;\n",
       "    }\n",
       "\n",
       "    .dataframe thead th {\n",
       "        text-align: right;\n",
       "    }\n",
       "</style>\n",
       "<table border=\"1\" class=\"dataframe\">\n",
       "  <thead>\n",
       "    <tr style=\"text-align: right;\">\n",
       "      <th></th>\n",
       "      <th>Text</th>\n",
       "      <th>Category</th>\n",
       "      <th>Category_Vector</th>\n",
       "      <th>Text_Vector</th>\n",
       "    </tr>\n",
       "  </thead>\n",
       "  <tbody>\n",
       "    <tr>\n",
       "      <th>0</th>\n",
       "      <td>Hi, How are you?</td>\n",
       "      <td>Conversation</td>\n",
       "      <td>0</td>\n",
       "      <td>[-0.69876504, -0.0001500044, -0.19010301, -0.4...</td>\n",
       "    </tr>\n",
       "    <tr>\n",
       "      <th>1</th>\n",
       "      <td>Open the Calculator</td>\n",
       "      <td>Automation</td>\n",
       "      <td>1</td>\n",
       "      <td>[-0.64370006, 0.13723333, -0.115854345, 0.2468...</td>\n",
       "    </tr>\n",
       "    <tr>\n",
       "      <th>2</th>\n",
       "      <td>What is Computer Science?</td>\n",
       "      <td>Query</td>\n",
       "      <td>2</td>\n",
       "      <td>[-0.69642, 0.33735198, -0.13490349, -0.1035250...</td>\n",
       "    </tr>\n",
       "    <tr>\n",
       "      <th>3</th>\n",
       "      <td>Hello, How is it going</td>\n",
       "      <td>Conversation</td>\n",
       "      <td>0</td>\n",
       "      <td>[-0.68201, 0.23253398, -0.42377, -0.18508801, ...</td>\n",
       "    </tr>\n",
       "    <tr>\n",
       "      <th>4</th>\n",
       "      <td>Is it going to rain today in Mumabai?</td>\n",
       "      <td>Query</td>\n",
       "      <td>2</td>\n",
       "      <td>[-0.62227756, 0.2895575, -0.213225, -0.0321208...</td>\n",
       "    </tr>\n",
       "  </tbody>\n",
       "</table>\n",
       "</div>"
      ],
      "text/plain": [
       "                                    Text      Category  Category_Vector  \\\n",
       "0                       Hi, How are you?  Conversation                0   \n",
       "1                    Open the Calculator    Automation                1   \n",
       "2              What is Computer Science?         Query                2   \n",
       "3                 Hello, How is it going  Conversation                0   \n",
       "4  Is it going to rain today in Mumabai?         Query                2   \n",
       "\n",
       "                                         Text_Vector  \n",
       "0  [-0.69876504, -0.0001500044, -0.19010301, -0.4...  \n",
       "1  [-0.64370006, 0.13723333, -0.115854345, 0.2468...  \n",
       "2  [-0.69642, 0.33735198, -0.13490349, -0.1035250...  \n",
       "3  [-0.68201, 0.23253398, -0.42377, -0.18508801, ...  \n",
       "4  [-0.62227756, 0.2895575, -0.213225, -0.0321208...  "
      ]
     },
     "execution_count": 14,
     "metadata": {},
     "output_type": "execute_result"
    }
   ],
   "source": [
    "df.head()"
   ]
  },
  {
   "cell_type": "code",
   "execution_count": 15,
   "metadata": {},
   "outputs": [
    {
     "name": "stdout",
     "output_type": "stream",
     "text": [
      "(184,)\n",
      "(47,)\n"
     ]
    }
   ],
   "source": [
    "#training the model using train_test_split with 20% sample data\n",
    "\n",
    "from sklearn.model_selection import train_test_split\n",
    "X_train, X_test, y_train, y_test = train_test_split(\n",
    "                                    df.Text_Vector.values,\n",
    "                                    df.Category_Vector,\n",
    "                                    test_size = 0.2,\n",
    "                                    random_state = 500)  \n",
    "print(X_train.shape)\n",
    "print(X_test.shape)\n",
    "# print(df['Text_Vector'].shape)\n",
    "# print(y_train)"
   ]
  },
  {
   "cell_type": "code",
   "execution_count": 16,
   "metadata": {},
   "outputs": [],
   "source": [
    "import numpy as np\n",
    "X_train_2d = np.stack(X_train)\n",
    "X_test_2d = np.stack(X_test)"
   ]
  },
  {
   "cell_type": "code",
   "execution_count": 17,
   "metadata": {},
   "outputs": [],
   "source": [
    "# scaling\n",
    "\n",
    "from sklearn.preprocessing import MinMaxScaler\n",
    "scalar = MinMaxScaler()\n",
    "scaled_train_embed = scalar.fit_transform(X_train_2d)\n",
    "scaled_test_embed = scalar.transform(X_test_2d)"
   ]
  },
  {
   "cell_type": "code",
   "execution_count": 18,
   "metadata": {},
   "outputs": [
    {
     "name": "stdout",
     "output_type": "stream",
     "text": [
      "Classification Report: \n",
      "              precision    recall  f1-score   support\n",
      "\n",
      "Conversation       0.93      0.67      0.78        21\n",
      "  Automation       0.79      0.65      0.71        17\n",
      "       Query       0.44      0.89      0.59         9\n",
      "\n",
      "    accuracy                           0.70        47\n",
      "   macro avg       0.72      0.73      0.69        47\n",
      "weighted avg       0.79      0.70      0.72        47\n",
      "\n"
     ]
    }
   ],
   "source": [
    "# Naive_bayes model - working comparitively better in this case\n",
    "\n",
    "from sklearn.naive_bayes import MultinomialNB\n",
    "from sklearn.metrics import classification_report\n",
    " \n",
    "mb = MultinomialNB()\n",
    "mb.fit(scaled_train_embed, y_train)\n",
    "y_pred = mb.predict(scaled_test_embed)\n",
    "print(\"Classification Report: \")\n",
    "target_names = df['Category'].unique().tolist()\n",
    "print(classification_report(y_pred,y_test, target_names = target_names, zero_division = 0))"
   ]
  },
  {
   "cell_type": "code",
   "execution_count": 19,
   "metadata": {},
   "outputs": [
    {
     "name": "stdout",
     "output_type": "stream",
     "text": [
      "Classification Report:               precision    recall  f1-score   support\n",
      "\n",
      "Conversation       0.93      0.64      0.76        22\n",
      "  Automation       0.71      0.71      0.71        14\n",
      "       Query       0.50      0.82      0.62        11\n",
      "\n",
      "    accuracy                           0.70        47\n",
      "   macro avg       0.72      0.72      0.70        47\n",
      "weighted avg       0.77      0.70      0.71        47\n",
      "\n"
     ]
    }
   ],
   "source": [
    "#KNN model\n",
    "\n",
    "from sklearn.neighbors import KNeighborsClassifier\n",
    "knn = KNeighborsClassifier()\n",
    "knn.fit(scaled_train_embed, y_train)\n",
    "y_pred = knn.predict(scaled_test_embed)\n",
    "target_names = df['Category'].unique().tolist()\n",
    "print(f\"Classification Report: {classification_report(y_pred,y_test, target_names = target_names, zero_division = 0)}\")"
   ]
  },
  {
   "cell_type": "code",
   "execution_count": 20,
   "metadata": {},
   "outputs": [
    {
     "name": "stdout",
     "output_type": "stream",
     "text": [
      "Classification Report: \n",
      "              precision    recall  f1-score   support\n",
      "\n",
      "Conversation       0.93      0.74      0.82        19\n",
      "  Automation       0.79      0.58      0.67        19\n",
      "       Query       0.44      0.89      0.59         9\n",
      "\n",
      "    accuracy                           0.70        47\n",
      "   macro avg       0.72      0.73      0.69        47\n",
      "weighted avg       0.78      0.70      0.72        47\n",
      "\n"
     ]
    }
   ],
   "source": [
    "#SVM model\n",
    "\n",
    "from sklearn.svm import SVC\n",
    "svc = SVC()\n",
    "svc.fit(scaled_train_embed, y_train)\n",
    "y_pred = svc.predict(scaled_test_embed)\n",
    "print(\"Classification Report: \")\n",
    "target_names = df['Category'].unique().tolist()\n",
    "print(classification_report(y_pred,y_test, target_names = target_names, zero_division = 0))"
   ]
  },
  {
   "cell_type": "code",
   "execution_count": 21,
   "metadata": {},
   "outputs": [
    {
     "name": "stdout",
     "output_type": "stream",
     "text": [
      "Classification Report: \n",
      "              precision    recall  f1-score   support\n",
      "\n",
      "Conversation       0.87      0.72      0.79        18\n",
      "  Automation       0.79      0.85      0.81        13\n",
      "       Query       0.72      0.81      0.76        16\n",
      "\n",
      "    accuracy                           0.79        47\n",
      "   macro avg       0.79      0.79      0.79        47\n",
      "weighted avg       0.80      0.79      0.79        47\n",
      "\n"
     ]
    },
    {
     "name": "stderr",
     "output_type": "stream",
     "text": [
      "/Users/shreejavasala/Documents/Mini_Project/venv_mini/lib/python3.11/site-packages/sklearn/linear_model/_logistic.py:469: ConvergenceWarning: lbfgs failed to converge (status=1):\n",
      "STOP: TOTAL NO. of ITERATIONS REACHED LIMIT.\n",
      "\n",
      "Increase the number of iterations (max_iter) or scale the data as shown in:\n",
      "    https://scikit-learn.org/stable/modules/preprocessing.html\n",
      "Please also refer to the documentation for alternative solver options:\n",
      "    https://scikit-learn.org/stable/modules/linear_model.html#logistic-regression\n",
      "  n_iter_i = _check_optimize_result(\n"
     ]
    }
   ],
   "source": [
    "from sklearn.linear_model import LogisticRegression\n",
    "lg = LogisticRegression()\n",
    "lg.fit(scaled_train_embed, y_train)\n",
    "y_pred = lg.predict(scaled_test_embed)\n",
    "print(\"Classification Report: \")\n",
    "target_names = df['Category'].unique().tolist()\n",
    "print(classification_report(y_pred, y_test, target_names = target_names, zero_division = 0))\n"
   ]
  },
  {
   "cell_type": "code",
   "execution_count": 22,
   "metadata": {},
   "outputs": [
    {
     "name": "stdout",
     "output_type": "stream",
     "text": [
      "Input:  how's day going?\n",
      "Category:  Conversation\n"
     ]
    }
   ],
   "source": [
    "\n",
    "\n",
    "#Categorizing the user_input\n",
    "\n",
    "# def preprocess_user_input(input):\n",
    "#         doc = nlp(input)\n",
    "#         tokens = [token.text for token in doc if not token.is_punct] #removes the punctuation\n",
    "#         # print((tokens)) -->list of tokens of type string\n",
    "#         n_output = ' '.join(tokens)\n",
    "#         # print(n_output) -->string\n",
    "#         doc = nlp(n_output)\n",
    "#         n_output = doc.vector\n",
    "#         # print(n_output.shape) --> 1D vector\n",
    "#         n_output = doc.reshape(1,-1)\n",
    "#         # print(n_output.shape) --> 2D array(vector) after reshape\n",
    "#         scaled_input_embedding = scalar.transform(n_output)\n",
    "#         prediction = mb.predict(scaled_input_embedding)\n",
    "#         category_map = {0: \"Conversation\", 1: \"Automation\", 2: \"Query\"}\n",
    "#         predicted_Category = category_map[prediction[0]]\n",
    "#         return predicted_Category\n",
    "\n",
    "\n",
    "def preprocess_user_input(input):\n",
    "        doc = nlp(input)\n",
    "        input_vector = [token.vector for token in doc if not token.is_punct] #removes the punctuation\n",
    "        if not input_vector:\n",
    "                return \"unknown category\"    \n",
    "        n_output = np.stack(input_vector)\n",
    "        scaled_input_embedding = scalar.transform(n_output)\n",
    "        prediction = svc.predict(scaled_input_embedding)\n",
    "        category_map = {0: \"Conversation\", 1: \"Automation\", 2: \"Query\"}\n",
    "        predicted_Category = category_map[prediction[0]]\n",
    "        return predicted_Category\n",
    "\n",
    "\n",
    "user_input= input((\"Enter your Text: \"))\n",
    "print(\"Input: \", user_input)\n",
    "print(\"Category: \", preprocess_user_input(user_input))"
   ]
  }
 ],
 "metadata": {
  "kernelspec": {
   "display_name": "venv_mini",
   "language": "python",
   "name": "python3"
  },
  "language_info": {
   "codemirror_mode": {
    "name": "ipython",
    "version": 3
   },
   "file_extension": ".py",
   "mimetype": "text/x-python",
   "name": "python",
   "nbconvert_exporter": "python",
   "pygments_lexer": "ipython3",
   "version": "3.11.8"
  }
 },
 "nbformat": 4,
 "nbformat_minor": 2
}
